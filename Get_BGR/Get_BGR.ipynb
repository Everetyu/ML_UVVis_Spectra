{
 "cells": [
  {
   "cell_type": "code",
   "execution_count": 1,
   "id": "5a04f69f",
   "metadata": {},
   "outputs": [],
   "source": [
    "import cv2\n",
    "import numpy as np\n",
    "\n",
    "img = cv2.imread(\"Image/0.30/0.30mgmL-1_18.png\", cv2.IMREAD_COLOR)"
   ]
  },
  {
   "cell_type": "code",
   "execution_count": 2,
   "id": "32024862",
   "metadata": {},
   "outputs": [
    {
     "name": "stdout",
     "output_type": "stream",
     "text": [
      "[[ 26.0484614   12.04514465 106.52146674]]\n"
     ]
    },
    {
     "data": {
      "text/plain": [
       "True"
      ]
     },
     "execution_count": 2,
     "metadata": {},
     "output_type": "execute_result"
    }
   ],
   "source": [
    "# Select a specific color region of the solution in the bottle, \n",
    "# and then calculate the average by summing the B, G, and R values.\n",
    "\n",
    "# height\n",
    "c1 = int(0.50*img.shape[0])\n",
    "c2 = int(0.70*img.shape[0])\n",
    "\n",
    "# width\n",
    "d1 = int(0.45*img.shape[1])\n",
    "d2 = int(0.55*img.shape[1])\n",
    "\n",
    "arr = np.zeros((1,3), dtype=int)\n",
    "\n",
    "for c in range(c1,c2):\n",
    "    for d in range(d1,d2):\n",
    "        arr += img[c,d]\n",
    "        \n",
    "arr_average = arr/((c2-c1)*(d2-d1)) \n",
    "\n",
    "print(arr_average)\n",
    "solution_color = arr_average\n",
    "\n",
    "arr_solution = img[c1:c2,d1:d2]\n",

    "cv2.imwrite('solution.png', arr_solution)"
   ]
  },
  {
   "cell_type": "code",
   "execution_count": 3,
   "id": "422738b9",
   "metadata": {},
   "outputs": [
    {
     "name": "stdout",
     "output_type": "stream",
     "text": [
      "[[206.01464898 223.89681224 236.79712548]]\n"
     ]
    },
    {
     "data": {
      "text/plain": [
       "True"
      ]
     },
     "execution_count": 3,
     "metadata": {},
     "output_type": "execute_result"
    }
   ],
   "source": [
    "# Select a specific area on the outside of the bottle as background noise, \n",
    "# and calculate the average by summing the B, G, and R values.\n",
    "\n",
    "# height\n",
    "c1 = int(0.50*img.shape[0])\n",
    "c2 = int(0.70*img.shape[0])\n",
    "\n",
    "# width\n",
    "d1 = int(0.80*img.shape[1])\n",
    "d2 = int(0.90*img.shape[1])\n",
    "\n",
    "arr = np.zeros((1,3), dtype=int)\n",
    "\n",
    "for c in range(c1,c2):\n",
    "    for d in range(d1,d2):\n",
    "        arr += img[c,d]\n",
    "        \n",
    "arr_average = arr/((c2-c1)*(d2-d1))  \n",
    "arr_average = arr/((c2-c1)*(d2-d1))  \n",
    "\n",
    "print(arr_average)\n",
    "backgroud_color = arr_average\n",
    "\n",
    "arr_backgroud = img[c1:c2,d1:d2]\n",
    "cv2.imwrite('backgroud.png', arr_backgroud)\n"
   ]
  },
  {
   "cell_type": "code",
   "execution_count": 4,
   "id": "d4152748",
   "metadata": {},
   "outputs": [
    {
     "name": "stdout",
     "output_type": "stream",
     "text": [
      "[[22.93688963 19.05804312 88.31859222]]\n"
     ]
    }
   ],
   "source": [
    "# Take the difference between the solution color and the background color.\n",
    "\n",
    "import numpy as np\n",
    "np.set_printoptions(suppress=True)\n",
    "\n",
    "diff_color=abs(solution_color-(255-backgroud_color))\n",
    "print(diff_color)"
   ]
  }
 ],
 "metadata": {
  "kernelspec": {
   "display_name": "Python 3 (ipykernel)",
   "language": "python",
   "name": "python3"
  },
  "language_info": {
   "codemirror_mode": {
    "name": "ipython",
    "version": 3
   },
   "file_extension": ".py",
   "mimetype": "text/x-python",
   "name": "python",
   "nbconvert_exporter": "python",
   "pygments_lexer": "ipython3",
   "version": "3.9.13"
  }
 },
 "nbformat": 4,
 "nbformat_minor": 5
}
