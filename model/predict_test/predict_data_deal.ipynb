{
 "cells": [
  {
   "cell_type": "code",
   "execution_count": 1,
   "id": "15210dae",
   "metadata": {},
   "outputs": [
    {
     "name": "stdout",
     "output_type": "stream",
     "text": [
      "文件名: .\\predict_test_01.csv\n",
      "数据:\n",
      "[0.03047333 0.03028667 0.02997333 ... 0.42675333 0.42811333 0.43106667]\n",
      "----------------------------------------\n",
      "文件名: .\\predict_test_02.csv\n",
      "数据:\n",
      "[0.03074    0.03045333 0.03006    ... 0.4202     0.42166667 0.42431333]\n",
      "----------------------------------------\n",
      "文件名: .\\predict_test_03.csv\n",
      "数据:\n",
      "[0.03151333 0.03114667 0.03054    ... 0.43222    0.43342    0.43652   ]\n",
      "----------------------------------------\n",
      "文件名: .\\predict_test_04.csv\n",
      "数据:\n",
      "[0.03114    0.03060667 0.03002667 ... 0.42102667 0.42254    0.42552   ]\n",
      "----------------------------------------\n",
      "文件名: .\\predict_test_05.csv\n",
      "数据:\n",
      "[0.03063333 0.0304     0.02995333 ... 0.41516667 0.41673333 0.41932667]\n",
      "----------------------------------------\n",
      "文件名: .\\predict_test_06.csv\n",
      "数据:\n",
      "[0.03105333 0.03056667 0.03009333 ... 0.42836    0.42956    0.43259333]\n",
      "----------------------------------------\n",
      "文件名: .\\predict_test_07.csv\n",
      "数据:\n",
      "[0.03061333 0.03052    0.02971333 ... 0.42889333 0.43008667 0.43306667]\n",
      "----------------------------------------\n",
      "文件名: .\\predict_test_08.csv\n",
      "数据:\n",
      "[0.03072    0.03047333 0.02970667 ... 0.42271333 0.42418    0.42703333]\n",
      "----------------------------------------\n",
      "文件名: .\\predict_test_09.csv\n",
      "数据:\n",
      "[0.03049333 0.03032667 0.03011333 ... 0.42773333 0.4291     0.43204667]\n",
      "----------------------------------------\n",
      "文件名: .\\predict_test_10.csv\n",
      "数据:\n",
      "[0.03105333 0.03056667 0.03009333 ... 0.42143333 0.42296667 0.42590667]\n",
      "----------------------------------------\n",
      "10\n",
      "[0.03084333 0.03053467 0.03002733 ... 0.42445    0.42583667 0.42873933]\n"
     ]
    }
   ],
   "source": [
    "import glob\n",
    "import numpy as np\n",
    "\n",
    "data_sum = np.zeros(3609)\n",
    "\n",
    "# 遍历当前目录下的所有.csv文件\n",
    "for filename in glob.glob('./predict_test*.csv'):\n",
    "    # 使用numpy的loadtxt读取csv文件内容\n",
    "    data = np.loadtxt(filename, delimiter=',') # 假设csv文件的分隔符为逗号\n",
    "    print(f'文件名: {filename}')\n",
    "    print('数据:')\n",
    "    print(data)\n",
    "    data_sum = data_sum + data\n",
    "#     print(data_sum)\n",
    "    print('-' * 40) # 打印分隔线以区分不同文件的输出\n",
    "\n",
    "data_mean = data_sum/len(glob.glob('./predict_test*.csv'))\n",
    "print(len(glob.glob('./predict_test*.csv')))\n",
    "print(data_mean)\n",
    "\n",
    "np.savetxt(\"data_mean.csv\",data_mean, delimiter=\",\")"
   ]
  },
  {
   "cell_type": "code",
   "execution_count": null,
   "id": "384f1b15",
   "metadata": {},
   "outputs": [],
   "source": []
  }
 ],
 "metadata": {
  "kernelspec": {
   "display_name": "Python 3 (ipykernel)",
   "language": "python",
   "name": "python3"
  },
  "language_info": {
   "codemirror_mode": {
    "name": "ipython",
    "version": 3
   },
   "file_extension": ".py",
   "mimetype": "text/x-python",
   "name": "python",
   "nbconvert_exporter": "python",
   "pygments_lexer": "ipython3",
   "version": "3.9.13"
  }
 },
 "nbformat": 4,
 "nbformat_minor": 5
}
