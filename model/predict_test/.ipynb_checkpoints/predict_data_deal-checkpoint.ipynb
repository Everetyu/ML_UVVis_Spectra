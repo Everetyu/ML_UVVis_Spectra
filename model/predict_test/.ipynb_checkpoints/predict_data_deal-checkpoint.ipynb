{
 "cells": [
  {
   "cell_type": "code",
   "execution_count": 26,
   "id": "d6eef810",
   "metadata": {},
   "outputs": [
    {
     "name": "stdout",
     "output_type": "stream",
     "text": [
      "文件名: .\\predict_test.csv\n",
      "----------------------------------------\n",
      "文件名: .\\predict_test_01.csv\n",
      "----------------------------------------\n",
      "文件名: .\\predict_test_1.csv\n",
      "----------------------------------------\n",
      "文件名: .\\predict_test_2.csv\n",
      "----------------------------------------\n",
      "文件名: .\\predict_test_mean.csv\n",
      "----------------------------------------\n",
      "5\n",
      "[0.03292978 0.03258133 0.03200889 ... 0.45046756 0.45520178 0.45827556]\n"
     ]
    }
   ],
   "source": [
    "import glob\n",
    "import numpy as np\n",
    "\n",
    "data_sum = np.zeros(3609)\n",
    "\n",
    "# 遍历当前目录下的所有.csv文件\n",
    "for filename in glob.glob('./predict_test*.csv'):\n",
    "    # 使用numpy的loadtxt读取csv文件内容\n",
    "    data = np.loadtxt(filename, delimiter=',') # 假设csv文件的分隔符为逗号\n",
    "    print(f'文件名: {filename}')\n",
    "#     print('数据:')\n",
    "#     print(data)\n",
    "    data_sum = data_sum + data\n",
    "#     print(data_sum)\n",
    "    print('-' * 40) # 打印分隔线以区分不同文件的输出\n",
    "\n",
    "data_mean = data_sum/len(glob.glob('./predict_test*.csv'))\n",
    "print(len(glob.glob('./predict_test*.csv')))\n",
    "print(data_mean)\n",
    "\n",
    "np.savetxt(\"data_mean.csv\",data_mean, delimiter=\",\")"
   ]
  },
  {
   "cell_type": "code",
   "execution_count": null,
   "id": "cfb4ff13",
   "metadata": {},
   "outputs": [],
   "source": []
  }
 ],
 "metadata": {
  "kernelspec": {
   "display_name": "Python 3 (ipykernel)",
   "language": "python",
   "name": "python3"
  },
  "language_info": {
   "codemirror_mode": {
    "name": "ipython",
    "version": 3
   },
   "file_extension": ".py",
   "mimetype": "text/x-python",
   "name": "python",
   "nbconvert_exporter": "python",
   "pygments_lexer": "ipython3",
   "version": "3.9.13"
  }
 },
 "nbformat": 4,
 "nbformat_minor": 5
}
